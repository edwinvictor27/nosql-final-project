{
 "cells": [
  {
   "cell_type": "code",
   "execution_count": 1,
   "metadata": {},
   "outputs": [
    {
     "name": "stdout",
     "output_type": "stream",
     "text": [
      "Shortest Path from Châtillon-Montrouge to Malakoff - Rue Étienne Dolet:\n",
      "Path Length: 1 stations\n",
      "Path: Châtillon-Montrouge -> Malakoff - Rue Étienne Dolet\n",
      "Shortest Path from Châtillon-Montrouge to Esplanade de La Défense:\n",
      "Path Length: 9 stations\n",
      "Path: Châtillon-Montrouge -> Malakoff - Plateau de Vanves -> Porte de Versailles -> Commerce -> École Militaire -> Iéna -> Porte Dauphine -> Les Sablons -> Pont de Neuilly -> Esplanade de La Défense\n",
      "Shortest Path from Châtillon-Montrouge to Les Sablons:\n",
      "Path Length: 7 stations\n",
      "Path: Châtillon-Montrouge -> Malakoff - Plateau de Vanves -> Porte de Versailles -> Commerce -> École Militaire -> Iéna -> Porte Dauphine -> Les Sablons\n",
      "Shortest Path from Châtillon-Montrouge to Argentine:\n",
      "Path Length: 6 stations\n",
      "Path: Châtillon-Montrouge -> Malakoff - Plateau de Vanves -> Porte de Versailles -> Commerce -> École Militaire -> Iéna -> Argentine\n",
      "Shortest Path from Châtillon-Montrouge to George V:\n",
      "Path Length: 6 stations\n",
      "Path: Châtillon-Montrouge -> Malakoff - Plateau de Vanves -> Porte de Versailles -> Commerce -> École Militaire -> Iéna -> George V\n",
      "Shortest Path from Châtillon-Montrouge to Franklin D. Roosevelt:\n",
      "Path Length: 6 stations\n",
      "Path: Châtillon-Montrouge -> Malakoff - Plateau de Vanves -> Porte de Versailles -> Commerce -> École Militaire -> Invalides -> Franklin D. Roosevelt\n",
      "Shortest Path from Châtillon-Montrouge to Concorde:\n",
      "Path Length: 6 stations\n",
      "Path: Châtillon-Montrouge -> Malakoff - Plateau de Vanves -> Porte de Vanves -> Pernety -> Notre-Dame des Champs -> Rue du Bac -> Concorde\n",
      "Shortest Path from Châtillon-Montrouge to Tuileries:\n",
      "Path Length: 6 stations\n",
      "Path: Châtillon-Montrouge -> Malakoff - Plateau de Vanves -> Porte de Vanves -> Pernety -> Notre-Dame des Champs -> Rue du Bac -> Tuileries\n",
      "Shortest Path from Châtillon-Montrouge to Palais Royal - Musée du Louvre:\n",
      "Path Length: 6 stations\n",
      "Path: Châtillon-Montrouge -> Malakoff - Plateau de Vanves -> Porte de Vanves -> Pernety -> Notre-Dame des Champs -> Rue du Bac -> Palais Royal - Musée du Louvre\n",
      "Shortest Path from Châtillon-Montrouge to Louvre — Rivoli:\n",
      "Path Length: 6 stations\n",
      "Path: Châtillon-Montrouge -> Malakoff - Plateau de Vanves -> Porte de Vanves -> Pernety -> Notre-Dame des Champs -> Rue du Bac -> Louvre — Rivoli\n"
     ]
    }
   ],
   "source": [
    "import networkx as nx\n",
    "from neo4j import GraphDatabase\n",
    "\n",
    "# Connect to Neo4j\n",
    "uri = \"neo4j+s://626ee68a.databases.neo4j.io\"\n",
    "driver = GraphDatabase.driver(uri, auth=(\"neo4j\", \"sYKDgXkyjO_zR3b3UMEoq9MqzEoyP5p2c7BFtoH-6i0\"))\n",
    "\n",
    "def find_shortest_paths():\n",
    "    with driver.session() as session:\n",
    "        query = \"\"\"\n",
    "            MATCH (start:Station), (end:Station), \n",
    "                  p = shortestPath((start)-[:CONNECTED_TO*]-(end))\n",
    "            WHERE start <> end\n",
    "            RETURN start.name AS start_station, end.name AS end_station, \n",
    "                   length(p) AS path_length, nodes(p) AS path\n",
    "                   limit 10\n",
    "        \"\"\"\n",
    "        result = session.run(query)\n",
    "        \n",
    "        # Process and print the result\n",
    "        for record in result:\n",
    "            start_station = record[\"start_station\"]\n",
    "            end_station = record[\"end_station\"]\n",
    "            path_length = record[\"path_length\"]\n",
    "            path = [node[\"name\"] for node in record[\"path\"]]  # Extract names of stations in the path\n",
    "\n",
    "            print(f\"Shortest Path from {start_station} to {end_station}:\")\n",
    "            print(f\"Path Length: {path_length} stations\")\n",
    "            print(\"Path:\", \" -> \".join(path))\n",
    "\n",
    "# Call the function to find the shortest paths\n",
    "find_shortest_paths()\n",
    "\n",
    "driver.close()\n"
   ]
  },
  {
   "cell_type": "code",
   "execution_count": null,
   "metadata": {},
   "outputs": [],
   "source": []
  }
 ],
 "metadata": {
  "kernelspec": {
   "display_name": "nosql",
   "language": "python",
   "name": "python3"
  },
  "language_info": {
   "codemirror_mode": {
    "name": "ipython",
    "version": 3
   },
   "file_extension": ".py",
   "mimetype": "text/x-python",
   "name": "python",
   "nbconvert_exporter": "python",
   "pygments_lexer": "ipython3",
   "version": "3.13.1"
  }
 },
 "nbformat": 4,
 "nbformat_minor": 2
}
