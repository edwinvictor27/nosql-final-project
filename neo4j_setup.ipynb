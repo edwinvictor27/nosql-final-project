{
 "cells": [
  {
   "cell_type": "code",
   "id": "initial_id",
   "metadata": {
    "collapsed": true,
    "ExecuteTime": {
     "end_time": "2025-01-11T17:39:48.405366Z",
     "start_time": "2025-01-11T17:39:42.989557Z"
    }
   },
   "source": "!pip install neo4j",
   "outputs": [
    {
     "name": "stdout",
     "output_type": "stream",
     "text": [
      "Collecting neo4j\n",
      "  Downloading neo4j-5.27.0-py3-none-any.whl.metadata (5.9 kB)\n",
      "Requirement already satisfied: pytz in c:\\users\\jaiga\\.venv\\lib\\site-packages (from neo4j) (2024.2)\n",
      "Downloading neo4j-5.27.0-py3-none-any.whl (301 kB)\n",
      "Installing collected packages: neo4j\n",
      "Successfully installed neo4j-5.27.0\n"
     ]
    }
   ],
   "execution_count": 1
  },
  {
   "metadata": {
    "ExecuteTime": {
     "end_time": "2025-01-11T17:39:56.824444Z",
     "start_time": "2025-01-11T17:39:53.893009Z"
    }
   },
   "cell_type": "code",
   "source": "from neo4j import GraphDatabase",
   "id": "33419fe1f07cf48a",
   "outputs": [],
   "execution_count": 2
  },
  {
   "metadata": {
    "ExecuteTime": {
     "end_time": "2025-01-11T17:42:58.690157Z",
     "start_time": "2025-01-11T17:42:58.395435Z"
    }
   },
   "cell_type": "code",
   "source": [
    "# URI examples: \"neo4j://localhost\", \"neo4j+s://xxx.databases.neo4j.io\"\n",
    "URI = \"neo4j+ssc://replace with your detailsdatabases.neo4j.io\"\n",
    "AUTH = (\"neo4j\", \"replace with your password)\n",
    "\n",
    "driver = GraphDatabase.driver(URI, auth=AUTH)\n",
    "driver.verify_connectivity()\n"
   ],
   "id": "def4d85d804241e3",
   "outputs": [],
   "execution_count": 5
  },
  {
   "metadata": {
    "ExecuteTime": {
     "end_time": "2025-01-11T17:47:02.185572Z",
     "start_time": "2025-01-11T17:47:02.174662Z"
    }
   },
   "cell_type": "code",
   "source": [
    "import json\n",
    "\n",
    "# Load the JSON file\n",
    "file_path = \"metro.json\"\n",
    "with open(file_path, \"r\") as file:\n",
    "    data = json.load(file)\n",
    "\n",
    "# Extract nodes\n",
    "nodes = data[\"nodes\"]\n",
    "print(f\"Total stations: {len(nodes)}\")\n"
   ],
   "id": "9e3e6837d73c4bae",
   "outputs": [
    {
     "name": "stdout",
     "output_type": "stream",
     "text": [
      "Total stations: 314\n"
     ]
    }
   ],
   "execution_count": 6
  },
  {
   "metadata": {
    "ExecuteTime": {
     "end_time": "2025-01-11T17:53:14.151684Z",
     "start_time": "2025-01-11T17:53:13.762077Z"
    }
   },
   "cell_type": "code",
   "source": [
    "def bulk_insert_nodes(tx, nodes):\n",
    "    query = \"\"\"\n",
    "    UNWIND $nodes AS node\n",
    "    MERGE (s:Station {id: node.id})\n",
    "    SET s.name = node.text,\n",
    "        s.longitude = node.longitude,\n",
    "        s.latitude = node.latitude,\n",
    "        s.size = node.size,\n",
    "        s.x = node.x,\n",
    "        s.y = node.y,\n",
    "        s.visited = COALESCE(node.visited, false)\n",
    "    \"\"\"\n",
    "    tx.run(query, nodes=nodes)\n",
    "\n",
    "# Insert the nodes\n",
    "with driver.session() as session:\n",
    "    session.execute_write(bulk_insert_nodes, nodes)\n",
    "    print(f\"Inserted {len(nodes)} stations into Neo4j.\")"
   ],
   "id": "292c775f83e7ef38",
   "outputs": [
    {
     "name": "stdout",
     "output_type": "stream",
     "text": [
      "Inserted 314 stations into Neo4j.\n"
     ]
    }
   ],
   "execution_count": 9
  },
  {
   "metadata": {},
   "cell_type": "code",
   "outputs": [],
   "execution_count": null,
   "source": [
    "with driver.session() as session:\n",
    "    session.execute_write(bulk_insert_nodes, nodes)\n",
    "    print(f\"Inserted {len(nodes)} stations into Neo4j.\")"
   ],
   "id": "11c0eaed8242c543"
  },
  {
   "metadata": {
    "ExecuteTime": {
     "end_time": "2025-01-11T17:56:22.077619Z",
     "start_time": "2025-01-11T17:56:21.943948Z"
    }
   },
   "cell_type": "code",
   "source": [
    "def execute_query(query):\n",
    "    with driver.session() as session:\n",
    "        result = session.run(query)\n",
    "        return [record for record in result]\n",
    "\n",
    "# Query to count the number of Station nodes\n",
    "query = \"MATCH (s:Station) RETURN count(s) AS station_count\"\n",
    "result = execute_query(query)\n",
    "\n",
    "# Print the result\n",
    "for record in result:\n",
    "    print(f\"Number of Station nodes: {record['station_count']}\")"
   ],
   "id": "77f17f39851a98d",
   "outputs": [
    {
     "name": "stdout",
     "output_type": "stream",
     "text": [
      "Number of Station nodes: 314\n"
     ]
    }
   ],
   "execution_count": 10
  },
  {
   "metadata": {
    "ExecuteTime": {
     "end_time": "2025-01-11T18:09:14.793104Z",
     "start_time": "2025-01-11T18:09:14.783251Z"
    }
   },
   "cell_type": "code",
   "source": [
    "from math import radians, sin, cos, sqrt, atan2\n",
    "\n",
    "def haversine(lat1, lon1, lat2, lon2):\n",
    "    R = 6371  # Earth's radius in km\n",
    "    dlat = radians(lat2 - lat1)\n",
    "    dlon = radians(lon2 - lon1)\n",
    "    a = sin(dlat / 2)**2 + cos(radians(lat1)) * cos(radians(lat2)) * sin(dlon / 2)**2\n",
    "    c = 2 * atan2(sqrt(a), sqrt(1 - a))\n",
    "    return R * c  # Distance in km\n"
   ],
   "id": "ef03a071fa24ce08",
   "outputs": [],
   "execution_count": 12
  },
  {
   "metadata": {
    "ExecuteTime": {
     "end_time": "2025-01-11T18:09:18.709072Z",
     "start_time": "2025-01-11T18:09:18.604254Z"
    }
   },
   "cell_type": "code",
   "source": [
    "# Generate relationships based on proximity\n",
    "def generate_relationships(stations, distance_threshold=1.5):\n",
    "    relationships = []\n",
    "    for i, station1 in enumerate(stations):\n",
    "        for j, station2 in enumerate(stations):\n",
    "            if i >= j:  # Avoid duplicate pairs and self-relations\n",
    "                continue\n",
    "            distance = haversine(\n",
    "                station1[\"latitude\"], station1[\"longitude\"],\n",
    "                station2[\"latitude\"], station2[\"longitude\"]\n",
    "            )\n",
    "            if distance <= distance_threshold:\n",
    "                relationships.append({\n",
    "                    \"from\": station1[\"id\"],\n",
    "                    \"to\": station2[\"id\"],\n",
    "                    \"distance\": distance,\n",
    "                    \"line\": \"default\"  # Replace with actual line data if available\n",
    "                })\n",
    "    return relationships\n",
    "\n",
    "# Generate relationships\n",
    "relationships = generate_relationships(nodes, distance_threshold=1.5)\n",
    "print(f\"Generated {len(relationships)} relationships.\")\n"
   ],
   "id": "cf5ce86057c3aa42",
   "outputs": [
    {
     "name": "stdout",
     "output_type": "stream",
     "text": [
      "Generated 3004 relationships.\n"
     ]
    }
   ],
   "execution_count": 13
  },
  {
   "metadata": {
    "ExecuteTime": {
     "end_time": "2025-01-11T18:12:27.305704Z",
     "start_time": "2025-01-11T18:12:27.298042Z"
    }
   },
   "cell_type": "code",
   "source": [
    "def bulk_insert_relationships(tx, relationships):\n",
    "    query = \"\"\"\n",
    "    UNWIND $relationships AS rel\n",
    "    MATCH (a:Station {id: rel.from}), (b:Station {id: rel.to})\n",
    "    CREATE (a)-[:CONNECTED_TO {distance: rel.distance, line: rel.line}]->(b)\n",
    "    \"\"\"\n",
    "    tx.run(query, relationships=relationships)"
   ],
   "id": "bb5437aee1fe9184",
   "outputs": [],
   "execution_count": 14
  },
  {
   "metadata": {
    "ExecuteTime": {
     "end_time": "2025-01-11T18:12:31.341608Z",
     "start_time": "2025-01-11T18:12:29.935218Z"
    }
   },
   "cell_type": "code",
   "source": [
    "# Insert relationships into Neo4j\n",
    "with driver.session() as session:\n",
    "    session.execute_write(bulk_insert_relationships, relationships)\n",
    "    print(f\"Inserted {len(relationships)} relationships into Neo4j.\")\n"
   ],
   "id": "df083ea37e9fc773",
   "outputs": [
    {
     "name": "stdout",
     "output_type": "stream",
     "text": [
      "Inserted 3004 relationships into Neo4j.\n"
     ]
    }
   ],
   "execution_count": 15
  },
  {
   "metadata": {
    "ExecuteTime": {
     "end_time": "2025-01-11T18:19:48.012393Z",
     "start_time": "2025-01-11T18:19:47.824458Z"
    }
   },
   "cell_type": "code",
   "source": [
    "query = \"\"\"\n",
    "MATCH (a:Station)-[r:CONNECTED_TO]->(b:Station)\n",
    "RETURN a.name AS station1, b.name AS station2, r.distance AS distance\n",
    "LIMIT 10\n",
    "\"\"\"\n",
    "results = execute_query(query)\n",
    "\n",
    "# Display the results\n",
    "for record in results:\n",
    "    print(f\"Station 1: {record['station1']}, Station 2: {record['station2']}, Distance: {record['distance']} km\")\n"
   ],
   "id": "535cd8aace2f41c2",
   "outputs": [
    {
     "name": "stdout",
     "output_type": "stream",
     "text": [
      "Station 1: ChÃ¢tillon-Montrouge, Station 2: Malakoff - Rue Ã‰tienne Dolet, Distance: 0.6041303238388324 km\n",
      "Station 1: Les Sablons, Station 2: Argentine, Distance: 1.4022020483069286 km\n",
      "Station 1: Argentine, Station 2: George V, Distance: 0.8983402319230762 km\n",
      "Station 1: George V, Station 2: Franklin D. Roosevelt, Distance: 0.772424239966335 km\n",
      "Station 1: Franklin D. Roosevelt, Station 2: Concorde, Distance: 0.9492954048664906 km\n",
      "Station 1: Concorde, Station 2: Tuileries, Distance: 0.6426824418647624 km\n",
      "Station 1: Concorde, Station 2: Palais Royal - MusÃ©e du Louvre, Distance: 1.1200890687286136 km\n",
      "Station 1: Tuileries, Station 2: Palais Royal - MusÃ©e du Louvre, Distance: 0.4790371660896081 km\n",
      "Station 1: Tuileries, Station 2: Louvre â€” Rivoli, Distance: 0.8704348725836409 km\n",
      "Station 1: Palais Royal - MusÃ©e du Louvre, Station 2: Louvre â€” Rivoli, Distance: 0.3914559993754351 km\n"
     ]
    }
   ],
   "execution_count": 17
  },
  {
   "metadata": {},
   "cell_type": "code",
   "outputs": [],
   "execution_count": null,
   "source": "",
   "id": "90405f5aa724b9a4"
  }
 ],
 "metadata": {
  "kernelspec": {
   "display_name": "Python 3",
   "language": "python",
   "name": "python3"
  },
  "language_info": {
   "codemirror_mode": {
    "name": "ipython",
    "version": 2
   },
   "file_extension": ".py",
   "mimetype": "text/x-python",
   "name": "python",
   "nbconvert_exporter": "python",
   "pygments_lexer": "ipython2",
   "version": "2.7.6"
  }
 },
 "nbformat": 4,
 "nbformat_minor": 5
}
