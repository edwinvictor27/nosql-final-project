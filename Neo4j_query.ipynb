{
 "cells": [
  {
   "cell_type": "markdown",
   "metadata": {},
   "source": [
    "# Neo4j query for routing logic of metro \n"
   ]
  },
  {
   "cell_type": "markdown",
   "metadata": {},
   "source": [
    "## Searching for all nodes labeled \"Station\" in the graph and returning the first 25 nodes "
   ]
  },
  {
   "cell_type": "code",
   "execution_count": null,
   "metadata": {
    "vscode": {
     "languageId": "plaintext"
    }
   },
   "outputs": [],
   "source": [
    "MATCH (n:Station) RETURN n LIMIT 25;"
   ]
  },
  {
   "cell_type": "markdown",
   "metadata": {},
   "source": [
    "## Return paths between Station nodes connected by \"CONNECTS\" relationships."
   ]
  },
  {
   "cell_type": "code",
   "execution_count": null,
   "metadata": {
    "vscode": {
     "languageId": "plaintext"
    }
   },
   "outputs": [],
   "source": [
    "MATCH p=()-[:CONNECTS]->() RETURN p LIMIT 25;"
   ]
  },
  {
   "cell_type": "markdown",
   "metadata": {},
   "source": [
    "## Finds the shortest path between every pair of different stations in the graph"
   ]
  },
  {
   "cell_type": "code",
   "execution_count": null,
   "metadata": {
    "vscode": {
     "languageId": "plaintext"
    }
   },
   "outputs": [],
   "source": [
    "MATCH (start:Station), (end:Station)\n",
    "WHERE start <> end\n",
    "MATCH p = shortestPath((start)-[:CONNECTS*]-(end))\n",
    "RETURN start.name AS start_station, end.name AS end_station, length(p) AS path_length, nodes(p) AS path;\n"
   ]
  },
  {
   "cell_type": "markdown",
   "metadata": {},
   "source": [
    "## Finds the shortest path between two specific stations [Ex: 'Châtillon-Montrouge' and 'Bastille']"
   ]
  },
  {
   "cell_type": "code",
   "execution_count": null,
   "metadata": {
    "vscode": {
     "languageId": "plaintext"
    }
   },
   "outputs": [],
   "source": [
    "MATCH (start:Station {name: 'Châtillon-Montrouge'}), (end:Station {name: 'Bastille'})\n",
    "MATCH p = shortestPath((start)-[:CONNECTS*]-(end))\n",
    "RETURN p\n"
   ]
  }
 ],
 "metadata": {
  "language_info": {
   "name": "python"
  }
 },
 "nbformat": 4,
 "nbformat_minor": 2
}
