{
 "cells": [
  {
   "cell_type": "code",
   "id": "initial_id",
   "metadata": {
    "collapsed": true,
    "ExecuteTime": {
     "end_time": "2025-01-11T13:36:24.411683Z",
     "start_time": "2025-01-11T13:36:20.178873Z"
    }
   },
   "source": "!pip install \"pymongo\"",
   "outputs": [
    {
     "name": "stdout",
     "output_type": "stream",
     "text": [
      "Requirement already satisfied: pymongo in c:\\users\\jaiga\\.venv\\lib\\site-packages (4.10.1)\n",
      "Requirement already satisfied: dnspython<3.0.0,>=1.16.0 in c:\\users\\jaiga\\.venv\\lib\\site-packages (from pymongo) (2.7.0)\n"
     ]
    }
   ],
   "execution_count": 1
  },
  {
   "metadata": {
    "ExecuteTime": {
     "end_time": "2025-01-11T13:36:30.528475Z",
     "start_time": "2025-01-11T13:36:30.376306Z"
    }
   },
   "cell_type": "code",
   "source": [
    "from pymongo.mongo_client import MongoClient\n",
    "from pymongo.server_api import ServerApi"
   ],
   "id": "cc2c44b1fd0ca2e4",
   "outputs": [],
   "execution_count": 2
  },
  {
   "metadata": {
    "ExecuteTime": {
     "end_time": "2025-01-11T13:36:34.933088Z",
     "start_time": "2025-01-11T13:36:34.188543Z"
    }
   },
   "cell_type": "code",
   "source": [
    "username = \"replace with your username\"\n",
    "password = \"replace with your password\"\n",
    "cluster_url = \"replace with your cluster_url\"\n",
    "\n",
    "uri = f\"mongodb+srv://{username}:{password}@{cluster_url}/?retryWrites=true&w=majority\"\n",
    "\n",
    "# Create a new client and connect to the server\n",
    "client = MongoClient(uri, server_api=ServerApi('1'))\n",
    "\n",
    "# Send a ping to confirm a successful connection\n",
    "try:\n",
    "    client.admin.command('ping')\n",
    "    print(\"Pinged your deployment. You successfully connected to MongoDB!\")\n",
    "except Exception as e:\n",
    "    print(e)"
   ],
   "id": "68c68d207fd003ba",
   "outputs": [
    {
     "name": "stdout",
     "output_type": "stream",
     "text": [
      "Pinged your deployment. You successfully connected to MongoDB!\n"
     ]
    }
   ],
   "execution_count": 3
  },
  {
   "metadata": {
    "ExecuteTime": {
     "end_time": "2025-01-11T13:39:14.987276Z",
     "start_time": "2025-01-11T13:39:14.974741Z"
    }
   },
   "cell_type": "code",
   "source": "db = client['metro_data']",
   "id": "e740ea241cb5b3c6",
   "outputs": [],
   "execution_count": 4
  },
  {
   "metadata": {
    "ExecuteTime": {
     "end_time": "2025-01-11T13:39:17.068369Z",
     "start_time": "2025-01-11T13:39:17.054805Z"
    }
   },
   "cell_type": "code",
   "source": "collection = db['stations']",
   "id": "74dc46681f126f07",
   "outputs": [],
   "execution_count": 5
  },
  {
   "metadata": {
    "ExecuteTime": {
     "end_time": "2025-01-11T13:51:43.205423Z",
     "start_time": "2025-01-11T13:51:43.191975Z"
    }
   },
   "cell_type": "code",
   "source": [
    "import json\n",
    "\n",
    "# Load data from the JSON file\n",
    "with open('metro.json', 'r') as file:\n",
    "    data = json.load(file)\n",
    "\n",
    "# Access the 'nodes' key and print the first 2 entries\n",
    "print(data['nodes'][:2])"
   ],
   "id": "4138a36e32518cd6",
   "outputs": [
    {
     "name": "stdout",
     "output_type": "stream",
     "text": [
      "[{'id': 12388528, 'text': 'ChÃ¢tillon-Montrouge', 'size': 5, 'x': 23015.874, 'y': -488108.097, 'longitude': 2.3015874, 'latitude': 48.8108097, 'visited': True}, {'id': 12388534, 'text': 'Malakoff - Rue Ã‰tienne Dolet', 'size': 5, 'x': 22970.255, 'y': -488153.367, 'longitude': 2.2970255, 'latitude': 48.8153367, 'visited': True}]\n"
     ]
    }
   ],
   "execution_count": 7
  },
  {
   "metadata": {
    "ExecuteTime": {
     "end_time": "2025-01-11T13:52:08.129807Z",
     "start_time": "2025-01-11T13:52:06.054865Z"
    }
   },
   "cell_type": "code",
   "source": [
    "collection.insert_many(data['nodes'])  # Insert the 'nodes' part of the data\n",
    "print(\"Data inserted successfully.\")"
   ],
   "id": "98042ee48e5afb5b",
   "outputs": [
    {
     "name": "stdout",
     "output_type": "stream",
     "text": [
      "Data inserted successfully.\n"
     ]
    }
   ],
   "execution_count": 8
  },
  {
   "metadata": {
    "ExecuteTime": {
     "end_time": "2025-01-11T13:52:53.940195Z",
     "start_time": "2025-01-11T13:52:53.906816Z"
    }
   },
   "cell_type": "code",
   "source": [
    "# Query to fetch the first 5 documents from the collection\n",
    "documents = collection.find().limit(5)\n",
    "\n",
    "for doc in documents:\n",
    "    print(doc)"
   ],
   "id": "d07ce347c687d10d",
   "outputs": [
    {
     "name": "stdout",
     "output_type": "stream",
     "text": [
      "{'_id': ObjectId('67827786726fac1b6703d337'), 'id': 12388528, 'text': 'ChÃ¢tillon-Montrouge', 'size': 5, 'x': 23015.874, 'y': -488108.097, 'longitude': 2.3015874, 'latitude': 48.8108097, 'visited': True}\n",
      "{'_id': ObjectId('67827786726fac1b6703d338'), 'id': 12388534, 'text': 'Malakoff - Rue Ã‰tienne Dolet', 'size': 5, 'x': 22970.255, 'y': -488153.367, 'longitude': 2.2970255, 'latitude': 48.8153367, 'visited': True}\n",
      "{'_id': ObjectId('67827786726fac1b6703d339'), 'id': 27332092, 'text': 'Esplanade de La DÃ©fense', 'size': 5, 'x': 22494.747, 'y': -488882.396, 'longitude': 2.2494747, 'latitude': 48.8882396, 'visited': True}\n",
      "{'_id': ObjectId('67827786726fac1b6703d33a'), 'id': 27362238, 'text': 'Les Sablons', 'size': 5, 'x': 22720.961000000003, 'y': -488810.615, 'longitude': 2.2720961, 'latitude': 48.8810615, 'visited': True}\n",
      "{'_id': ObjectId('67827786726fac1b6703d33b'), 'id': 27362240, 'text': 'Argentine', 'size': 5, 'x': 22893.655000000002, 'y': -488755.816, 'longitude': 2.2893655, 'latitude': 48.8755816, 'visited': True}\n"
     ]
    }
   ],
   "execution_count": 9
  },
  {
   "metadata": {},
   "cell_type": "code",
   "outputs": [],
   "execution_count": null,
   "source": "",
   "id": "d9dc20f9fa7cf59a"
  }
 ],
 "metadata": {
  "kernelspec": {
   "display_name": "Python 3",
   "language": "python",
   "name": "python3"
  },
  "language_info": {
   "codemirror_mode": {
    "name": "ipython",
    "version": 2
   },
   "file_extension": ".py",
   "mimetype": "text/x-python",
   "name": "python",
   "nbconvert_exporter": "python",
   "pygments_lexer": "ipython2",
   "version": "2.7.6"
  }
 },
 "nbformat": 4,
 "nbformat_minor": 5
}
