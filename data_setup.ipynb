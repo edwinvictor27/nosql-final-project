{
 "cells": [
  {
   "cell_type": "code",
   "execution_count": 7,
   "metadata": {},
   "outputs": [
    {
     "name": "stdout",
     "output_type": "stream",
     "text": [
      "Requirement already satisfied: neo4j in /Users/macbookair/miniconda3/envs/nosql/lib/python3.13/site-packages (5.27.0)\n",
      "Requirement already satisfied: pytz in /Users/macbookair/miniconda3/envs/nosql/lib/python3.13/site-packages (from neo4j) (2024.2)\n"
     ]
    }
   ],
   "source": [
    "\n",
    "from neo4j import GraphDatabase\n",
    "import json\n",
    "\n",
    "# Connect to Neo4j\n",
    "uri = \"neo4j+s://626ee68a.databases.neo4j.io\"\n",
    "driver = GraphDatabase.driver(uri, auth=(\"neo4j\", \"sYKDgXkyjO_zR3b3UMEoq9MqzEoyP5p2c7BFtoH-6i0\"))\n",
    "\n",
    "def create_nodes_and_edges(data):\n",
    "    with driver.session() as session:\n",
    "        # Create nodes\n",
    "        for node in data['nodes']:\n",
    "            session.run(\n",
    "                \"CREATE (:Station {id: $id, name: $name, latitude: $lat, longitude: $lon})\",\n",
    "                id=node['id'], name=node['text'], lat=node['latitude'], lon=node['longitude']\n",
    "            )\n",
    "        # Add edges here if defined in your data\n",
    "        for edge in data['edges']:\n",
    "            session.run(\n",
    "                \"\"\"\n",
    "                MATCH (a:Station {id: $source}), (b:Station {id: $target})\n",
    "                MERGE (a)-[:CONNECTS {line: $line, color: $color}]->(b)\n",
    "                \"\"\",\n",
    "                source=edge['source'],\n",
    "                target=edge['target'],\n",
    "                line=edge['line'],\n",
    "                color=edge['color']\n",
    "            )\n",
    "# Load the JSON\n",
    "with open(\"metro.json\", \"r\") as file:\n",
    "    metro_data = json.load(file)\n",
    "\n",
    "create_nodes_and_edges(metro_data)\n",
    "driver.close()\n"
   ]
  }
 ],
 "metadata": {
  "kernelspec": {
   "display_name": "nosql",
   "language": "python",
   "name": "python3"
  },
  "language_info": {
   "codemirror_mode": {
    "name": "ipython",
    "version": 3
   },
   "file_extension": ".py",
   "mimetype": "text/x-python",
   "name": "python",
   "nbconvert_exporter": "python",
   "pygments_lexer": "ipython3",
   "version": "3.13.1"
  }
 },
 "nbformat": 4,
 "nbformat_minor": 2
}
